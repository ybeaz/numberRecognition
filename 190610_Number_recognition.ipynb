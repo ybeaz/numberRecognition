{
 "cells": [
  {
   "cell_type": "markdown",
   "metadata": {},
   "source": [
    "### Import libraries"
   ]
  },
  {
   "cell_type": "code",
   "execution_count": 1,
   "metadata": {},
   "outputs": [],
   "source": [
    "import warnings\n",
    "warnings.filterwarnings(\"ignore\")\n",
    "\n",
    "import matplotlib.pyplot as plt\n",
    "\n",
    "import numpy as np\n",
    "import pandas as pd\n",
    "\n",
    "import scipy as loadmata\n",
    "\n",
    "from sklearn.model_selection import train_test_split\n",
    "from sklearn.metrics import classification_report\n",
    "#from sklearn import datasets\n",
    "\n",
    "#from nolearn.dbn import DBN\n",
    "\n",
    "import os\n",
    "\n",
    "from PIL import Image"
   ]
  },
  {
   "cell_type": "markdown",
   "metadata": {},
   "source": [
    "### Change working dir and output its content"
   ]
  },
  {
   "cell_type": "code",
   "execution_count": 2,
   "metadata": {},
   "outputs": [],
   "source": [
    "## work directory setting\n",
    "os.chdir(\"/Users/ybeaz/\")\n",
    "arr = os.listdir()\n",
    "#print('content of work directory:')\n",
    "#print(arr)"
   ]
  },
  {
   "cell_type": "markdown",
   "metadata": {},
   "source": [
    "### import MNIST from local files"
   ]
  },
  {
   "cell_type": "code",
   "execution_count": 5,
   "metadata": {},
   "outputs": [
    {
     "name": "stdout",
     "output_type": "stream",
     "text": [
      "Extracting /Users/ybeaz/DevData/train-images-idx3-ubyte.gz\n",
      "Extracting /Users/ybeaz/DevData/train-labels-idx1-ubyte.gz\n",
      "Extracting /Users/ybeaz/DevData/t10k-images-idx3-ubyte.gz\n",
      "Extracting /Users/ybeaz/DevData/t10k-labels-idx1-ubyte.gz\n",
      "\n",
      "Number of images for training: 60000\n",
      "Number of images used for testing: 10000\n",
      "Each image is: 5 by 5 pixels\n"
     ]
    }
   ],
   "source": [
    "from tensorflow.contrib.learn.python.learn.datasets.mnist import extract_images, extract_labels\n",
    "\n",
    "with open('/Users/ybeaz/DevData/train-images-idx3-ubyte.gz', 'rb') as f:\n",
    "  x_train = extract_images(f)\n",
    "with open('/Users/ybeaz/DevData/train-labels-idx1-ubyte.gz', 'rb') as f:\n",
    "  y_train = extract_labels(f)\n",
    "with open('/Users/ybeaz/DevData/t10k-images-idx3-ubyte.gz', 'rb') as f:\n",
    "  x_test = extract_images(f)\n",
    "with open('/Users/ybeaz/DevData/t10k-labels-idx1-ubyte.gz', 'rb') as f:\n",
    "  y_test = extract_labels(f)\n",
    "\n",
    "print ('')\n",
    "print (\"Number of images for training:\", x_train.shape[0])\n",
    "print (\"Number of images used for testing:\", x_test.shape[0])\n",
    "pix = int(np.sqrt(x_train.shape[1]))\n",
    "print (\"Each image is:\", pix, \"by\", pix, \"pixels\")"
   ]
  },
  {
   "cell_type": "markdown",
   "metadata": {},
   "source": [
    "### Show first image"
   ]
  },
  {
   "cell_type": "code",
   "execution_count": 6,
   "metadata": {},
   "outputs": [
    {
     "data": {
      "image/png": "[encoded data removed]",
      "text/plain": [
       "<Figure size 864x720 with 4 Axes>"
      ]
     },
     "metadata": {},
     "output_type": "display_data"
    }
   ],
   "source": [
    "plt.figure(figsize=(12,10))\n",
    "x, y = 10, 4\n",
    "\n",
    "for i in range(4):\n",
    "    \n",
    "    label = y_train[i]\n",
    "    plt.subplot(y, x, i+1).set_title('Digit {label}'.format(label=label))\n",
    "    plt.imshow(x_train[i].reshape((28,28)),interpolation='nearest')\n",
    "    \n",
    "plt.show()\n",
    "    "
   ]
  },
  {
   "cell_type": "code",
   "execution_count": 7,
   "metadata": {},
   "outputs": [],
   "source": [
    "from mlxtend.data import loadlocal_mnist\n",
    "X, y = loadlocal_mnist(\n",
    "        images_path='/Users/ybeaz/DevData/train-images.idx3-ubyte', \n",
    "        labels_path='/Users/ybeaz/DevData/train-labels.idx1-ubyte')\n",
    "\n",
    "\n",
    "#plt.plot(x, x*1.5, label='Normal')\n",
    "#print('Dimensions: %s x %s' % (X.shape[0], X.shape[1]))\n",
    "#print('\\n1st row', X[0])"
   ]
  },
  {
   "cell_type": "markdown",
   "metadata": {},
   "source": [
    "### mnist_cnn.py\n"
   ]
  },
  {
   "cell_type": "code",
   "execution_count": 8,
   "metadata": {},
   "outputs": [
    {
     "name": "stderr",
     "output_type": "stream",
     "text": [
      "Using TensorFlow backend.\n"
     ]
    },
    {
     "name": "stdout",
     "output_type": "stream",
     "text": [
      "x_train shape: (60000, 28, 28, 1)\n",
      "60000 train samples\n",
      "10000 test samples\n",
      "WARNING:tensorflow:From C:\\ProgramData\\Anaconda3\\lib\\site-packages\\tensorflow\\python\\framework\\op_def_library.py:263: colocate_with (from tensorflow.python.framework.ops) is deprecated and will be removed in a future version.\n",
      "Instructions for updating:\n",
      "Colocations handled automatically by placer.\n",
      "WARNING:tensorflow:From C:\\Users\\ybeaz\\AppData\\Roaming\\Python\\Python36\\site-packages\\keras\\backend\\tensorflow_backend.py:3445: calling dropout (from tensorflow.python.ops.nn_ops) with keep_prob is deprecated and will be removed in a future version.\n",
      "Instructions for updating:\n",
      "Please use `rate` instead of `keep_prob`. Rate should be set to `rate = 1 - keep_prob`.\n",
      "WARNING:tensorflow:From C:\\ProgramData\\Anaconda3\\lib\\site-packages\\tensorflow\\python\\ops\\math_ops.py:3066: to_int32 (from tensorflow.python.ops.math_ops) is deprecated and will be removed in a future version.\n",
      "Instructions for updating:\n",
      "Use tf.cast instead.\n",
      "Train on 60000 samples, validate on 10000 samples\n",
      "Epoch 1/2\n",
      "60000/60000 [==============================] - 494s 8ms/step - loss: 0.2600 - acc: 0.9199 - val_loss: 0.0644 - val_acc: 0.9785\n",
      "Epoch 2/2\n",
      "60000/60000 [==============================] - 593s 10ms/step - loss: 0.0883 - acc: 0.9742 - val_loss: 0.0372 - val_acc: 0.9875\n",
      "Test loss: 0.03723623039675877\n",
      "Test accuracy: 0.9875\n"
     ]
    }
   ],
   "source": [
    "'''Trains a simple convnet on the MNIST dataset.\n",
    "Gets to 99.25% test accuracy after 12 epochs\n",
    "(there is still a lot of margin for parameter tuning).\n",
    "16 seconds per epoch on a GRID K520 GPU.\n",
    "'''\n",
    "\n",
    "from __future__ import print_function\n",
    "import keras\n",
    "from keras.datasets import mnist\n",
    "from keras.models import Sequential\n",
    "from keras.layers import Dense, Dropout, Flatten\n",
    "from keras.layers import Conv2D, MaxPooling2D\n",
    "from keras import backend as K\n",
    "\n",
    "batch_size = 128\n",
    "num_classes = 10\n",
    "epochs = 2 #12\n",
    "\n",
    "# input image dimensions\n",
    "img_rows, img_cols = 28, 28\n",
    "\n",
    "# the data, split between train and test sets\n",
    "(x_train, y_train), (x_test, y_test) = mnist.load_data()\n",
    "\n",
    "if K.image_data_format() == 'channels_first':\n",
    "    x_train = x_train.reshape(x_train.shape[0], 1, img_rows, img_cols)\n",
    "    x_test = x_test.reshape(x_test.shape[0], 1, img_rows, img_cols)\n",
    "    input_shape = (1, img_rows, img_cols)\n",
    "else:\n",
    "    x_train = x_train.reshape(x_train.shape[0], img_rows, img_cols, 1)\n",
    "    x_test = x_test.reshape(x_test.shape[0], img_rows, img_cols, 1)\n",
    "    input_shape = (img_rows, img_cols, 1)\n",
    "\n",
    "x_train = x_train.astype('float32')\n",
    "x_test = x_test.astype('float32')\n",
    "x_train /= 255\n",
    "x_test /= 255\n",
    "print('x_train shape:', x_train.shape)\n",
    "print(x_train.shape[0], 'train samples')\n",
    "print(x_test.shape[0], 'test samples')\n",
    "\n",
    "# convert class vectors to binary class matrices\n",
    "y_train = keras.utils.to_categorical(y_train, num_classes)\n",
    "y_test = keras.utils.to_categorical(y_test, num_classes)\n",
    "\n",
    "model = Sequential()\n",
    "model.add(Conv2D(32, kernel_size=(3, 3),\n",
    "                 activation='relu',\n",
    "                 input_shape=input_shape))\n",
    "model.add(Conv2D(64, (3, 3), activation='relu'))\n",
    "model.add(MaxPooling2D(pool_size=(2, 2)))\n",
    "model.add(Dropout(0.25))\n",
    "model.add(Flatten())\n",
    "model.add(Dense(128, activation='relu'))\n",
    "model.add(Dropout(0.5))\n",
    "model.add(Dense(num_classes, activation='softmax'))\n",
    "\n",
    "model.compile(loss=keras.losses.categorical_crossentropy,\n",
    "              optimizer=keras.optimizers.Adadelta(),\n",
    "              metrics=['accuracy'])\n",
    "\n",
    "model.fit(x_train, y_train,\n",
    "          batch_size=batch_size,\n",
    "          epochs=epochs,\n",
    "          verbose=1,\n",
    "          validation_data=(x_test, y_test))\n",
    "score = model.evaluate(x_test, y_test, verbose=0)\n",
    "print('Test loss:', score[0])\n",
    "print('Test accuracy:', score[1])"
   ]
  },
  {
   "cell_type": "code",
   "execution_count": null,
   "metadata": {},
   "outputs": [],
   "source": [
    " def show_img(img, label):\n",
    "    plt.figure(figsize=(22,22))\n",
    "    plt.subplot(y, x, i+1).set_title('Label {label}'.format(label=label))\n",
    "    plt.imshow(img.resize((28,28)),interpolation='nearest')\n",
    "    plt.show()\n",
    "    \n",
    " def show_imgArr(imgArr, label):\n",
    "    plt.figure(figsize=(22,22))\n",
    "    plt.subplot(y, x, i+1).set_title('Label {label}'.format(label=label))\n",
    "    plt.imshow(imgArr.reshape((28,28)), interpolation='nearest')\n",
    "    plt.show()\n",
    "\n",
    "# show_img(img, label)\n",
    "# show_imgArr(imgArr, label)"
   ]
  },
  {
   "cell_type": "code",
   "execution_count": null,
   "metadata": {},
   "outputs": [],
   "source": [
    "plt.figure(figsize=(22,22))\n",
    "x, y = 10, 4\n",
    "\n",
    "for i in range(4):\n",
    "\n",
    "    k = np.array(x_train[i])\n",
    "    xTestReshape = k.reshape(1,28,28,1)\n",
    "    predict = model.predict(xTestReshape)\n",
    "    predict_classes = model.predict_classes(xTestReshape)\n",
    "    \n",
    "    label = predict_classes[0] #y_train[i]\n",
    "    plt.subplot(y, x, i+1).set_title('Predict {label}'.format(label=label))\n",
    "    plt.imshow(x_train[i].reshape((28,28)),interpolation='nearest')\n",
    "\n",
    "    \n",
    "plt.show()"
   ]
  },
  {
   "cell_type": "markdown",
   "metadata": {},
   "source": [
    "### Sources:\n",
    "* [Build the MNIST model with your own handwritten digits using TensorFlow, Keras, and Python](https://medium.com/@ashok.tankala/build-the-mnist-model-with-your-own-handwritten-digits-using-tensorflow-keras-and-python-f8ec9f871fd3\n",
    ")\n",
    "* [Simple_cnn_keras_tensorflow.ipynb](https://gist.github.com/alexcpn/0683bb940cae510cf84d5976c1652abd)\n",
    "* [How to Make Predictions with Keras](https://machinelearningmastery.com/how-to-make-classification-and-regression-predictions-for-deep-learning-models-in-keras/)"
   ]
  },
  {
   "cell_type": "code",
   "execution_count": null,
   "metadata": {},
   "outputs": [],
   "source": []
  }
 ],
 "metadata": {
  "kernelspec": {
   "display_name": "Python 3",
   "language": "python",
   "name": "python3"
  },
  "language_info": {
   "codemirror_mode": {
    "name": "ipython",
    "version": 3
   },
   "file_extension": ".py",
   "mimetype": "text/x-python",
   "name": "python",
   "nbconvert_exporter": "python",
   "pygments_lexer": "ipython3",
   "version": "3.6.5"
  }
 },
 "nbformat": 4,
 "nbformat_minor": 2
}
