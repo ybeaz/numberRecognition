{
 "cells": [
  {
   "cell_type": "markdown",
   "metadata": {},
   "source": [
    "### Import libraries"
   ]
  },
  {
   "cell_type": "code",
   "execution_count": 56,
   "metadata": {},
   "outputs": [],
   "source": [
    "import warnings\n",
    "warnings.filterwarnings(\"ignore\")\n",
    "\n",
    "import matplotlib.pyplot as plt\n",
    "\n",
    "import numpy as np\n",
    "import pandas as pd\n",
    "\n",
    "import scipy as loadmata\n",
    "\n",
    "from sklearn.model_selection import train_test_split\n",
    "from sklearn.metrics import classification_report\n",
    "#from sklearn import datasets\n",
    "\n",
    "#from nolearn.dbn import DBN\n",
    "\n",
    "import os\n",
    "\n",
    "from PIL import Image, ImageFilter, ImageOps, ImageEnhance\n"
   ]
  },
  {
   "cell_type": "markdown",
   "metadata": {},
   "source": [
    "### Import project files"
   ]
  },
  {
   "cell_type": "code",
   "execution_count": 57,
   "metadata": {},
   "outputs": [],
   "source": [
    "%run C:/Data/Dev/NumberRecognition/src/Shared/serviceFunc.py\n",
    "%run C:/Data/Dev/NumberRecognition/src/Teaching/mnist_cnn.py"
   ]
  },
  {
   "cell_type": "markdown",
   "metadata": {},
   "source": [
    "### import MNIST from local files"
   ]
  },
  {
   "cell_type": "code",
   "execution_count": 58,
   "metadata": {},
   "outputs": [
    {
     "name": "stdout",
     "output_type": "stream",
     "text": [
      "Extracting C:/Data/Dev/NumberRecognition/assets/train-images-idx3-ubyte.gz\n",
      "Extracting C:/Data/Dev/NumberRecognition/assets/train-labels-idx1-ubyte.gz\n",
      "Extracting C:/Data/Dev/NumberRecognition/assets/t10k-images-idx3-ubyte.gz\n",
      "Extracting C:/Data/Dev/NumberRecognition/assets/t10k-labels-idx1-ubyte.gz\n",
      "\n",
      "Number of images for training: 60000\n",
      "Number of images used for testing: 10000\n",
      "Each image is: 5 by 5 pixels\n"
     ]
    }
   ],
   "source": [
    "from tensorflow.contrib.learn.python.learn.datasets.mnist import extract_images, extract_labels\n",
    "\n",
    "with open('C:/Data/Dev/NumberRecognition/assets/train-images-idx3-ubyte.gz', 'rb') as f:\n",
    "  x_train = extract_images(f)\n",
    "with open('C:/Data/Dev/NumberRecognition/assets/train-labels-idx1-ubyte.gz', 'rb') as f:\n",
    "  y_train = extract_labels(f)\n",
    "with open('C:/Data/Dev/NumberRecognition/assets/t10k-images-idx3-ubyte.gz', 'rb') as f:\n",
    "  x_test = extract_images(f)\n",
    "with open('C:/Data/Dev/NumberRecognition/assets/t10k-labels-idx1-ubyte.gz', 'rb') as f:\n",
    "  y_test = extract_labels(f)\n",
    "\n",
    "print ('')\n",
    "print (\"Number of images for training:\", x_train.shape[0])\n",
    "print (\"Number of images used for testing:\", x_test.shape[0])\n",
    "pix = int(np.sqrt(x_train.shape[1]))\n",
    "print (\"Each image is:\", pix, \"by\", pix, \"pixels\")"
   ]
  },
  {
   "cell_type": "markdown",
   "metadata": {},
   "source": [
    "### Show first image"
   ]
  },
  {
   "cell_type": "code",
   "execution_count": 59,
   "metadata": {},
   "outputs": [
    {
     "data": {
      "image/png": "[encoded data removed]",
      "text/plain": [
       "<Figure size 1584x1584 with 4 Axes>"
      ]
     },
     "metadata": {},
     "output_type": "display_data"
    }
   ],
   "source": [
    "plt.figure(figsize=(22,22))\n",
    "x, y = 10, 4\n",
    "\n",
    "for i in range(4):\n",
    "    \n",
    "    label = y_train[i]\n",
    "    plt.subplot(y, x, i+1).set_title('Digit {label}'.format(label=label))\n",
    "    plt.imshow(x_train[i].reshape((28,28)),interpolation='nearest')\n",
    "    \n",
    "plt.show()\n",
    "    "
   ]
  },
  {
   "cell_type": "markdown",
   "metadata": {},
   "source": [
    "### mnist_cnn.py\n"
   ]
  },
  {
   "cell_type": "code",
   "execution_count": 60,
   "metadata": {},
   "outputs": [
    {
     "name": "stdout",
     "output_type": "stream",
     "text": [
      "x_train shape: (60000, 28, 28, 1)\n",
      "60000 train samples\n",
      "10000 test samples\n",
      "Train on 60000 samples, validate on 10000 samples\n",
      "Epoch 1/1\n",
      "60000/60000 [==============================] - 311s 5ms/step - loss: 0.2639 - acc: 0.9191 - val_loss: 0.0554 - val_acc: 0.9828\n",
      "Test loss: 0.05539878519605845\n",
      "Test accuracy: 0.9828\n"
     ]
    }
   ],
   "source": [
    "modelOutcome = teachMnistCnn()"
   ]
  },
  {
   "cell_type": "code",
   "execution_count": 61,
   "metadata": {},
   "outputs": [
    {
     "data": {
      "image/png": "[encoded data removed]",
      "text/plain": [
       "<Figure size 1584x1584 with 4 Axes>"
      ]
     },
     "metadata": {},
     "output_type": "display_data"
    }
   ],
   "source": [
    "plt.figure(figsize=(22,22))\n",
    "x, y = 10, 4\n",
    "\n",
    "for i in range(4):\n",
    "\n",
    "    imgArrNp = np.array(x_test[i])\n",
    "    xTestReshape = imgArrNp.reshape(1,28,28,1)\n",
    "    predict = modelOutcome.predict(xTestReshape)\n",
    "    predictClasses = modelOutcome.predict_classes(xTestReshape)\n",
    "    \n",
    "    #print('[1.1] x_train',x_train.shape)\n",
    "    #print('[1.2] x_train[i]',x_train[i].shape)\n",
    "    #print('[1.3]', x_train[i][0][0])\n",
    "    #print('[2] k',k.shape)\n",
    "    #print('[3] xTestReshape',xTestReshape.shape)\n",
    "    \n",
    "    label = predictClasses[0] #y_train[i]\n",
    "    plt.subplot(y, x, i+1).set_title('Predict {label}'.format(label=label))\n",
    "    plt.imshow(x_train[i].reshape((28,28)),interpolation='nearest')\n",
    "    \n",
    "    #show_imgArr(x_train[i], label)\n",
    "    \n",
    "plt.show()"
   ]
  },
  {
   "cell_type": "code",
   "execution_count": 48,
   "metadata": {},
   "outputs": [],
   "source": [
    "def change_contrast(img, level):\n",
    "    factor = (259 * (level + 255)) / (255 * (259 - level))\n",
    "    def contrast(c):\n",
    "        return 128 + factor * (c - 128)\n",
    "    return img.point(contrast)"
   ]
  },
  {
   "cell_type": "code",
   "execution_count": 63,
   "metadata": {},
   "outputs": [
    {
     "name": "stdout",
     "output_type": "stream",
     "text": [
      "[10 predict_classes] [9] predict [[0.06409342 0.00603982 0.1352915  0.07850897 0.11720341 0.06499787\n",
      "  0.01168158 0.02410212 0.08300975 0.41507152]]\n"
     ]
    },
    {
     "data": {
      "image/png": "[encoded data removed]",
      "text/plain": [
       "<Figure size 1584x1584 with 1 Axes>"
      ]
     },
     "metadata": {},
     "output_type": "display_data"
    }
   ],
   "source": [
    "image_file_name = 'C:/Data/Dev/NumberRecognition/samples/9_3.png'\n",
    "#show_img(image_file_name, 2)\n",
    "\n",
    "img = Image.open(image_file_name).convert('L').resize((28,28))\n",
    "#img = change_contrast(img, 0)\n",
    "img = ImageOps.invert(img)\n",
    "\n",
    "imgArr = imageprepare(image_file_name)\n",
    "imgArr = np.array(imgArr)\n",
    "#print('[5]', imgArr.shape)\n",
    "\n",
    "#print('[7]',imgArr)\n",
    "#imgArr = imgArr[np.newaxis, ..., np.newaxis]\n",
    "#imgArr = np.expand_dims(imgArr, axis=0)\n",
    "imgArrNp = np.array(imgArr)\n",
    "#xTestReshape = imgArrNp.reshape(1,28,28,1)\n",
    "xTestReshape = imgArrNp[np.newaxis, ..., np.newaxis]\n",
    "#print('[8]',xTestReshape.shape)\n",
    "#print('[9]',imgArr)\n",
    "\n",
    "\n",
    "#xTestReshape = imgArr.reshape(1,28,28,1)\n",
    "predict = modelOutcome.predict(xTestReshape)\n",
    "predictClasses = modelOutcome.predict_classes(xTestReshape)\n",
    "print('[10 predict_classes]', predictClasses, 'predict', predict)\n",
    "show_imgArr(imgArr, predictClasses[0])"
   ]
  },
  {
   "cell_type": "markdown",
   "metadata": {},
   "source": [
    "### Sources:\n",
    "* [Build the MNIST model with your own handwritten digits using TensorFlow, Keras, and Python](https://medium.com/@ashok.tankala/build-the-mnist-model-with-your-own-handwritten-digits-using-tensorflow-keras-and-python-f8ec9f871fd3\n",
    ")\n",
    "* [Simple_cnn_keras_tensorflow.ipynb](https://gist.github.com/alexcpn/0683bb940cae510cf84d5976c1652abd)\n",
    "* [How to Make Predictions with Keras](https://machinelearningmastery.com/how-to-make-classification-and-regression-predictions-for-deep-learning-models-in-keras/)"
   ]
  }
 ],
 "metadata": {
  "kernelspec": {
   "display_name": "Python 3",
   "language": "python",
   "name": "python3"
  },
  "language_info": {
   "codemirror_mode": {
    "name": "ipython",
    "version": 3
   },
   "file_extension": ".py",
   "mimetype": "text/x-python",
   "name": "python",
   "nbconvert_exporter": "python",
   "pygments_lexer": "ipython3",
   "version": "3.6.5"
  }
 },
 "nbformat": 4,
 "nbformat_minor": 2
}
